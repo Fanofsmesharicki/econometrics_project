{
  "nbformat": 4,
  "nbformat_minor": 0,
  "metadata": {
    "colab": {
      "provenance": []
    },
    "kernelspec": {
      "name": "python3",
      "display_name": "Python 3"
    },
    "language_info": {
      "name": "python"
    }
  },
  "cells": [
    {
      "cell_type": "markdown",
      "source": [
        "#В этом файле работы загрузим данные в модель наименьших квадратов, и посмотрим что и как у нас получится"
      ],
      "metadata": {
        "id": "x7wrQahONYpB"
      }
    },
    {
      "cell_type": "code",
      "execution_count": 27,
      "metadata": {
        "id": "zBn0lDlqMDqU",
        "colab": {
          "base_uri": "https://localhost:8080/"
        },
        "outputId": "e029305d-61f7-4888-db72-0013b01a6b46"
      },
      "outputs": [
        {
          "output_type": "stream",
          "name": "stdout",
          "text": [
            "Requirement already satisfied: scikit-posthocs in /usr/local/lib/python3.10/dist-packages (0.11.1)\n",
            "Requirement already satisfied: numpy in /usr/local/lib/python3.10/dist-packages (from scikit-posthocs) (1.26.4)\n",
            "Requirement already satisfied: scipy>=1.9.0 in /usr/local/lib/python3.10/dist-packages (from scikit-posthocs) (1.13.1)\n",
            "Requirement already satisfied: statsmodels in /usr/local/lib/python3.10/dist-packages (from scikit-posthocs) (0.14.4)\n",
            "Requirement already satisfied: pandas>=0.20.0 in /usr/local/lib/python3.10/dist-packages (from scikit-posthocs) (2.2.2)\n",
            "Requirement already satisfied: seaborn in /usr/local/lib/python3.10/dist-packages (from scikit-posthocs) (0.13.2)\n",
            "Requirement already satisfied: matplotlib in /usr/local/lib/python3.10/dist-packages (from scikit-posthocs) (3.8.0)\n",
            "Requirement already satisfied: python-dateutil>=2.8.2 in /usr/local/lib/python3.10/dist-packages (from pandas>=0.20.0->scikit-posthocs) (2.8.2)\n",
            "Requirement already satisfied: pytz>=2020.1 in /usr/local/lib/python3.10/dist-packages (from pandas>=0.20.0->scikit-posthocs) (2024.2)\n",
            "Requirement already satisfied: tzdata>=2022.7 in /usr/local/lib/python3.10/dist-packages (from pandas>=0.20.0->scikit-posthocs) (2024.2)\n",
            "Requirement already satisfied: contourpy>=1.0.1 in /usr/local/lib/python3.10/dist-packages (from matplotlib->scikit-posthocs) (1.3.1)\n",
            "Requirement already satisfied: cycler>=0.10 in /usr/local/lib/python3.10/dist-packages (from matplotlib->scikit-posthocs) (0.12.1)\n",
            "Requirement already satisfied: fonttools>=4.22.0 in /usr/local/lib/python3.10/dist-packages (from matplotlib->scikit-posthocs) (4.55.2)\n",
            "Requirement already satisfied: kiwisolver>=1.0.1 in /usr/local/lib/python3.10/dist-packages (from matplotlib->scikit-posthocs) (1.4.7)\n",
            "Requirement already satisfied: packaging>=20.0 in /usr/local/lib/python3.10/dist-packages (from matplotlib->scikit-posthocs) (24.2)\n",
            "Requirement already satisfied: pillow>=6.2.0 in /usr/local/lib/python3.10/dist-packages (from matplotlib->scikit-posthocs) (11.0.0)\n",
            "Requirement already satisfied: pyparsing>=2.3.1 in /usr/local/lib/python3.10/dist-packages (from matplotlib->scikit-posthocs) (3.2.0)\n",
            "Requirement already satisfied: patsy>=0.5.6 in /usr/local/lib/python3.10/dist-packages (from statsmodels->scikit-posthocs) (1.0.1)\n",
            "Requirement already satisfied: six>=1.5 in /usr/local/lib/python3.10/dist-packages (from python-dateutil>=2.8.2->pandas>=0.20.0->scikit-posthocs) (1.17.0)\n"
          ]
        }
      ],
      "source": [
        "import pandas as pd\n",
        "import statsmodels.api as sm\n",
        "import numpy as np\n",
        "from sklearn.metrics import mean_squared_error,mean_absolute_error\n",
        "from scipy.stats import ttest_1samp\n",
        "from scipy.stats import shapiro, levene, f_oneway, kruskal\n",
        "from statsmodels.stats.multicomp import pairwise_tukeyhsd\n",
        "!pip install scikit-posthocs\n",
        "import scikit_posthocs as sp\n"
      ]
    },
    {
      "cell_type": "code",
      "source": [
        "df=pd.read_excel(\"done_data.xlsx\")\n",
        "df.columns"
      ],
      "metadata": {
        "id": "QXVbFRXiOWJY",
        "colab": {
          "base_uri": "https://localhost:8080/"
        },
        "outputId": "27a8b76c-3557-4b80-e8ed-0184267b3f5f"
      },
      "execution_count": 28,
      "outputs": [
        {
          "output_type": "execute_result",
          "data": {
            "text/plain": [
              "Index(['Unnamed: 0', 'Фамилия Имя', 'Возраст игрока', 'Стоимость', 'Голы',\n",
              "       'Ассисты', 'Голы с игры', 'Желтые карточки', 'красные карточки',\n",
              "       'заработанные пенальти',\n",
              "       ...\n",
              "       'Клуб_Фламенго', 'Клуб_Фулхэм', 'Клуб_Челси', 'Клуб_Штуттгарт',\n",
              "       'Клуб_Эвертон', 'Клуб_Ювентус', 'Национальность_Скандинав',\n",
              "       'Национальность_Северная_Америка', 'Южная_Америка', 'Африканец'],\n",
              "      dtype='object', length=127)"
            ]
          },
          "metadata": {},
          "execution_count": 28
        }
      ]
    },
    {
      "cell_type": "markdown",
      "source": [
        "## Непосредственно модель"
      ],
      "metadata": {
        "id": "j4igTJQ31Lf3"
      }
    },
    {
      "cell_type": "code",
      "source": [
        "import statsmodels.api as sm\n",
        "from sklearn.metrics import mean_absolute_error, mean_squared_error\n",
        "import numpy as np\n",
        "df = df.drop(columns=[\"Unnamed: 0\", \"Фамилия Имя\"])\n",
        "X = df.drop(columns=\"Стоимость\")\n",
        "for col in X.select_dtypes(include=['object']).columns:\n",
        "    X[col] = pd.to_numeric(X[col], errors='coerce').fillna(0)\n",
        "X = sm.add_constant(X)\n",
        "y = df[\"Стоимость\"]\n",
        "X = X.applymap(lambda x: int(x) if isinstance(x, bool) else x)\n",
        "model = sm.OLS(y, X)\n",
        "result = model.fit()\n",
        "mae = mean_absolute_error(y, result.predict(X))\n",
        "rmse = np.sqrt(mean_squared_error(y, result.predict(X)))\n",
        "latex_summary = result.summary().as_latex()\n",
        "with open(\"kek\", 'w') as f:\n",
        "    f.write(latex_summary)\n",
        "result.summary(), mae, rmse, summary_path\n",
        "\n"
      ],
      "metadata": {
        "id": "jPjDeDRsOlB5",
        "colab": {
          "base_uri": "https://localhost:8080/"
        },
        "outputId": "67351b15-6500-4540-bf35-dfacb4e77d6b"
      },
      "execution_count": 29,
      "outputs": [
        {
          "output_type": "stream",
          "name": "stderr",
          "text": [
            "<ipython-input-29-a77472e55c2e>:22: FutureWarning: DataFrame.applymap has been deprecated. Use DataFrame.map instead.\n",
            "  X = X.applymap(lambda x: int(x) if isinstance(x, bool) else x)\n"
          ]
        },
        {
          "output_type": "execute_result",
          "data": {
            "text/plain": [
              "(<class 'statsmodels.iolib.summary.Summary'>\n",
              " \"\"\"\n",
              "                             OLS Regression Results                            \n",
              " ==============================================================================\n",
              " Dep. Variable:              Стоимость   R-squared:                       0.769\n",
              " Model:                            OLS   Adj. R-squared:                  0.615\n",
              " Method:                 Least Squares   F-statistic:                     5.011\n",
              " Date:                Thu, 12 Dec 2024   Prob (F-statistic):           3.45e-22\n",
              " Time:                        23:11:14   Log-Likelihood:                -1168.7\n",
              " No. Observations:                 297   AIC:                             2575.\n",
              " Df Residuals:                     178   BIC:                             3015.\n",
              " Df Model:                         118                                         \n",
              " Covariance Type:            nonrobust                                         \n",
              " =========================================================================================================================================\n",
              "                                                                             coef    std err          t      P>|t|      [0.025      0.975]\n",
              " -----------------------------------------------------------------------------------------------------------------------------------------\n",
              " const                                                                  -127.5751     67.006     -1.904      0.059    -259.803       4.653\n",
              " Возраст игрока                                                           13.8759      5.578      2.488      0.014       2.868      24.884\n",
              " Голы                                                                      1.6164      0.600      2.695      0.008       0.433       2.800\n",
              " Ассисты                                                                   0.1465      0.822      0.178      0.859      -1.476       1.769\n",
              " Голы с игры                                                               0.6272      0.508      1.236      0.218      -0.374       1.629\n",
              " Желтые карточки                                                           0.7257      0.513      1.416      0.159      -0.286       1.737\n",
              " красные карточки                                                          2.3406      3.410      0.686      0.493      -4.390       9.071\n",
              " заработанные пенальти                                                     0.9892      0.939      1.053      0.294      -0.864       2.842\n",
              " Ожидаемые голы                                                            1.4423      0.794      1.816      0.071      -0.125       3.010\n",
              " Ожидаемые ассисты                                                        -0.0356      1.165     -0.031      0.976      -2.335       2.264\n",
              " Прогрессивные переводы                                                    0.0806      0.071      1.128      0.261      -0.060       0.222\n",
              " Прогрессивные пасы                                                        0.1554      0.038      4.118      0.000       0.081       0.230\n",
              " Принятые игроком прогрессивные пасы                                       0.0270      0.040      0.675      0.501      -0.052       0.106\n",
              " Попытки отбора                                                            0.0063      0.316      0.020      0.984      -0.617       0.630\n",
              " успешные попытки отбора                                                   0.5614      0.451      1.245      0.215      -0.328       1.451\n",
              " количество остановок дриблинга+неудачных попыток остановаить дриблинг    -0.2271      0.273     -0.832      0.406      -0.766       0.311\n",
              " неудачные попытки остновки дриблинга                                      0.2280      0.352      0.648      0.518      -0.467       0.923\n",
              " Ошибки преведщие к ударам по воротам                                     -0.3521      1.358     -0.259      0.796      -3.031       2.327\n",
              " Выносы из штрафной                                                        0.0253      0.081      0.312      0.755      -0.135       0.185\n",
              " Прерванные пасы                                                          -0.1766      0.219     -0.806      0.422      -0.609       0.256\n",
              " Прерванные удары                                                          0.6067      0.363      1.671      0.096      -0.110       1.323\n",
              " колво матчей (колво сыгранных минут/90)                                  -1.3660      0.386     -3.541      0.001      -2.127      -0.605\n",
              " Прочитанных передач                                                       0.0022      0.186      0.012      0.991      -0.366       0.370\n",
              " возраст^2                                                                -0.3208      0.113     -2.846      0.005      -0.543      -0.098\n",
              " log_ожидаемые голы                                                        0.1811      0.512      0.354      0.724      -0.829       1.191\n",
              " log_ожидаемые ассисты                                                    -0.5099      0.827     -0.617      0.538      -2.141       1.122\n",
              " log_принятые прогрессивные пасы                                          -0.0342      1.093     -0.031      0.975      -2.191       2.123\n",
              " log_выносы из штрафной                                                   -0.8665      0.433     -2.002      0.047      -1.721      -0.012\n",
              " Национальность_Англия                                                     7.1124     12.600      0.564      0.573     -17.752      31.976\n",
              " Национальность_Аргентина                                                 12.5434     12.950      0.969      0.334     -13.011      38.098\n",
              " Национальность_Бельгия                                                    0.0977     14.541      0.007      0.995     -28.597      28.793\n",
              " Национальность_Бразилия                                                   5.1334     12.678      0.405      0.686     -19.885      30.152\n",
              " Национальность_Германия                                                   6.5039     12.664      0.514      0.608     -18.486      31.494\n",
              " Национальность_Грузия                                                     9.5998     24.376      0.394      0.694     -38.503      57.703\n",
              " Национальность_Ирландия                                                  15.0181     17.623      0.852      0.395     -19.760      49.796\n",
              " Национальность_Испания                                                    8.9910     13.329      0.675      0.501     -17.312      35.294\n",
              " Национальность_Италия                                                     6.1189     13.576      0.451      0.653     -20.672      32.910\n",
              " Национальность_Нидерланды                                                 5.5770     12.911      0.432      0.666     -19.900      31.054\n",
              " Национальность_Польша                                                   -11.0663     17.706     -0.625      0.533     -46.007      23.874\n",
              " Национальность_Португалия                                                 9.4548     13.539      0.698      0.486     -17.263      36.173\n",
              " Национальность_Россия                                                     4.5145     22.794      0.198      0.843     -40.468      49.496\n",
              " Национальность_Румыния                                                   -4.5449     26.627     -0.171      0.865     -57.090      48.000\n",
              " Национальность_Сербия                                                     6.4940     36.474      0.178      0.859     -65.484      78.472\n",
              " Национальность_Словакия                                                  15.5170     23.790      0.652      0.515     -31.430      62.464\n",
              " Национальность_Турция                                                   -27.7308     19.018     -1.458      0.147     -65.260       9.799\n",
              " Национальность_Украина                                                    5.0142     19.458      0.258      0.797     -33.384      43.413\n",
              " Национальность_Уэльс                                                     14.9656     22.362      0.669      0.504     -29.164      59.095\n",
              " Национальность_Франция                                                   10.8470     12.650      0.857      0.392     -14.117      35.811\n",
              " Национальность_Чехия                                                     15.2851     21.654      0.706      0.481     -27.446      58.016\n",
              " Национальность_Швейцария                                                 -0.6098     18.736     -0.033      0.974     -37.584      36.364\n",
              " Национальность_Шотландия                                                  0.5876     15.135      0.039      0.969     -29.280      30.455\n",
              " Национальность_Япония                                                     7.4693     15.514      0.481      0.631     -23.146      38.084\n",
              " Позиция на поле_Левый Вингер                                             -2.2052      5.521     -0.399      0.690     -13.099       8.689\n",
              " Позиция на поле_Левый защитник                                           -0.2983      6.400     -0.047      0.963     -12.927      12.330\n",
              " Позиция на поле_Опорный полузащитник                                      5.8125      6.513      0.892      0.373      -7.040      18.665\n",
              " Позиция на поле_Оттянутый нап.                                          -28.2516     14.546     -1.942      0.054     -56.957       0.454\n",
              " Позиция на поле_Правый Вингер                                            -5.3166      5.365     -0.991      0.323     -15.903       5.270\n",
              " Позиция на поле_Правый защитник                                          -2.8342      6.833     -0.415      0.679     -16.319      10.650\n",
              " Позиция на поле_Правый полузащитник                                       0.2832     14.019      0.020      0.984     -27.381      27.947\n",
              " Позиция на поле_Центр. защитник                                           3.8607      7.489      0.515      0.607     -10.919      18.640\n",
              " Позиция на поле_Центр. полузащитник                                      -2.2717      5.411     -0.420      0.675     -12.950       8.407\n",
              " Позиция на поле_Центральный нап.                                         -7.3539      6.256     -1.175      0.241     -19.700       4.992\n",
              " Лига_АПЛ                                                                  1.7150      4.662      0.368      0.713      -7.486      10.916\n",
              " Лига_Бундеслига                                                          -3.1863     12.277     -0.260      0.796     -27.413      21.040\n",
              " Лига_Ла лига                                                              4.5070      5.460      0.825      0.410      -6.269      15.283\n",
              " Лига_Лига 1                                                             -10.7035      5.791     -1.848      0.066     -22.131       0.724\n",
              " Лига_Серия А                                                             -2.9765      6.150     -0.484      0.629     -15.112       9.159\n",
              " Клуб_Аль-Наср Эр-Рияд                                                   -16.9210     17.579     -0.963      0.337     -51.611      17.769\n",
              " Клуб_Аль-Хилаль Эр-Рияд                                                  -3.1883     17.914     -0.178      0.859     -38.539      32.162\n",
              " Клуб_Арсенал                                                             21.7832      5.935      3.670      0.000      10.072      33.495\n",
              " Клуб_Астон Вилла                                                         -0.0426      5.528     -0.008      0.994     -10.951      10.865\n",
              " Клуб_Аталанта                                                            -6.5656      8.928     -0.735      0.463     -24.184      11.053\n",
              " Клуб_Атлетик Бильбао                                                    -18.3375     12.722     -1.441      0.151     -43.443       6.768\n",
              " Клуб_Атлетико Мадрид                                                     -9.2150      6.833     -1.349      0.179     -22.699       4.269\n",
              " Клуб_Бавария Мюнхен                                                      12.4818     13.809      0.904      0.367     -14.768      39.731\n",
              " Клуб_Байер 04 Леверкузен                                                 -7.4163     14.429     -0.514      0.608     -35.890      21.057\n",
              " Клуб_Барселона                                                           13.5737      6.956      1.951      0.053      -0.152      27.300\n",
              " Клуб_Бетис                                                               -9.5688     23.365     -0.410      0.683     -55.678      36.540\n",
              " Клуб_Болонья                                                             -4.5058     14.224     -0.317      0.752     -32.576      23.564\n",
              " Клуб_Борнмут                                                            -20.7794      9.434     -2.203      0.029     -39.396      -2.163\n",
              " Клуб_Боруссия Дортмунд                                                  -11.3796     13.878     -0.820      0.413     -38.766      16.007\n",
              " Клуб_Брайтон энд Хоув Альбион                                            -6.6045      5.919     -1.116      0.266     -18.285       5.076\n",
              " Клуб_Брентфорд                                                           -5.2116      9.141     -0.570      0.569     -23.250      12.827\n",
              " Клуб_Валенсия                                                           -12.5017     21.175     -0.590      0.556     -54.289      29.285\n",
              " Клуб_Вест Хэм Юнайтед                                                    -2.4385      8.770     -0.278      0.781     -19.745      14.868\n",
              " Клуб_Вулверхэмптон Уондерерс                                             -8.6834     10.502     -0.827      0.409     -29.408      12.042\n",
              " Клуб_Галатасарай                                                         21.2455     16.808      1.264      0.208     -11.924      54.415\n",
              " Клуб_Жирона                                                             -18.2353     13.002     -1.403      0.163     -43.893       7.422\n",
              " Клуб_Интернационале                                                      16.1586      7.356      2.197      0.029       1.643      30.674\n",
              " Клуб_Ипсвич Таун                                                        -16.4355     22.958     -0.716      0.475     -61.739      28.868\n",
              " Клуб_Иттихад                                                             15.5940     17.456      0.893      0.373     -18.852      50.041\n",
              " Клуб_Кристал Пэлас                                                        2.0401      6.896      0.296      0.768     -11.569      15.649\n",
              " Клуб_Ланс                                                                -8.5690     11.646     -0.736      0.463     -31.552      14.414\n",
              " Клуб_Лацио                                                               -0.9001     16.245     -0.055      0.956     -32.958      31.158\n",
              " Клуб_Ливерпуль                                                           -0.6238      5.019     -0.124      0.901     -10.528       9.280\n",
              " Клуб_Лилль                                                               -8.8899     10.427     -0.853      0.395     -29.467      11.687\n",
              " Клуб_Манчестер Сити                                                      32.1941      5.685      5.663      0.000      20.976      43.412\n",
              " Клуб_Манчестер Юнайтед                                                    8.2873      5.383      1.539      0.125      -2.336      18.910\n",
              " Клуб_Милан                                                               -4.2449      7.431     -0.571      0.569     -18.909      10.419\n",
              " Клуб_Монако                                                              -9.7296      8.688     -1.120      0.264     -26.875       7.416\n",
              " Клуб_Наполи                                                               7.8370     10.514      0.745      0.457     -12.911      28.585\n",
              " Клуб_Ноттингем Форест                                                    -5.8469      7.664     -0.763      0.447     -20.971       9.277\n",
              " Клуб_Ньюкасл Юнайтед                                                     -4.4415      5.665     -0.784      0.434     -15.621       6.738\n",
              " Клуб_Олимпик Марсель                                                    -11.2815     12.448     -0.906      0.366     -35.847      13.284\n",
              " Клуб_Пари Сен-Жермен                                                     16.4851      6.408      2.573      0.011       3.840      29.130\n",
              " Клуб_РБ Лейпциг                                                          -3.8147     14.823     -0.257      0.797     -33.067      25.438\n",
              " Клуб_Реал Мадрид                                                         30.8744      7.217      4.278      0.000      16.632      45.117\n",
              " Клуб_Реал Сосьедад                                                        0.1132      8.734      0.013      0.990     -17.123      17.350\n",
              " Клуб_Рома                                                               -24.3617     12.452     -1.956      0.052     -48.935       0.212\n",
              " Клуб_Стад Ренн                                                           -5.4303     16.910     -0.321      0.748     -38.799      27.939\n",
              " Клуб_Страсбур                                                           -11.0478     17.315     -0.638      0.524     -45.216      23.121\n",
              " Клуб_Торино                                                              -6.6062     16.161     -0.409      0.683     -38.499      25.286\n",
              " Клуб_Тоттенхэм Хотспур                                                   -6.9877      5.823     -1.200      0.232     -18.479       4.504\n",
              " Клуб_Фенербахче                                                          -1.1739     12.702     -0.092      0.926     -26.240      23.892\n",
              " Клуб_Фиорентина                                                          -3.0514     16.456     -0.185      0.853     -35.526      29.423\n",
              " Клуб_Фламенго                                                             2.7769     17.261      0.161      0.872     -31.286      36.840\n",
              " Клуб_Фулхэм                                                              -4.8977      7.987     -0.613      0.541     -20.659      10.863\n",
              " Клуб_Челси                                                               -2.0227      4.597     -0.440      0.661     -11.095       7.050\n",
              " Клуб_Штуттгарт                                                          -21.2792     12.578     -1.692      0.092     -46.101       3.542\n",
              " Клуб_Эвертон                                                             -5.0679      7.753     -0.654      0.514     -20.368      10.232\n",
              " Клуб_Ювентус                                                             -7.6637      7.896     -0.971      0.333     -23.246       7.918\n",
              " Национальность_Скандинав                                                 12.6321     13.630      0.927      0.355     -14.264      39.528\n",
              " Национальность_Северная_Америка                                           7.5579     13.884      0.544      0.587     -19.841      34.957\n",
              " Южная_Америка                                                            10.3222     13.173      0.784      0.434     -15.674      36.318\n",
              " Африканец                                                                -1.7890     12.914     -0.139      0.890     -27.274      23.696\n",
              " ==============================================================================\n",
              " Omnibus:                       47.066   Durbin-Watson:                   2.031\n",
              " Prob(Omnibus):                  0.000   Jarque-Bera (JB):              196.173\n",
              " Skew:                           0.567   Prob(JB):                     2.52e-43\n",
              " Kurtosis:                       6.817   Cond. No.                     1.91e+18\n",
              " ==============================================================================\n",
              " \n",
              " Notes:\n",
              " [1] Standard Errors assume that the covariance matrix of the errors is correctly specified.\n",
              " [2] The smallest eigenvalue is 3.61e-29. This might indicate that there are\n",
              " strong multicollinearity problems or that the design matrix is singular.\n",
              " \"\"\",\n",
              " 8.760223824473423,\n",
              " 12.380003228755031,\n",
              " '/mnt/data/summary_1.tex')"
            ]
          },
          "metadata": {},
          "execution_count": 29
        }
      ]
    },
    {
      "cell_type": "markdown",
      "source": [],
      "metadata": {
        "id": "5V1c-dem1Sbp"
      }
    },
    {
      "cell_type": "markdown",
      "source": [
        "# Проверим гипотезы"
      ],
      "metadata": {
        "id": "_P5hsOgLzrZ4"
      }
    },
    {
      "cell_type": "markdown",
      "source": [
        "### Первая гипотеза о переоценнености игроков АПЛ"
      ],
      "metadata": {
        "id": "MeFaI7j-1UYR"
      }
    },
    {
      "cell_type": "code",
      "source": [
        "X_epl = X[df[\"Лига_АПЛ\"] == 1]\n",
        "y_epl = y[df[\"Лига_АПЛ\"] == 1]\n",
        "predicted_value = result.predict(X_epl)\n",
        "actual_value_epl = df[\"Стоимость\"][df[\"Лига_АПЛ\"] == 1]\n",
        "overvaluation = actual_value_epl - predicted_value\n",
        "\n",
        "print(\"Среднее overvaluation:\", np.mean(overvaluation))\n",
        "\n",
        "t_stat, p_value = ttest_1samp(overvaluation, 0)\n",
        "\n",
        "print(\"Результаты t-теста по игрокам АПЛ:\")\n",
        "print(\"t-статистика:\", t_stat)\n",
        "print(\"p-значение:\", p_value)\n",
        "\n",
        "alpha = 0.05\n",
        "if p_value < alpha:\n",
        "    if np.mean(overvaluation) > 0:\n",
        "        print(\"Отвергаем H0: игроки АПЛ переоценены.\")\n",
        "    else:\n",
        "        print(\"Отвергаем H0: игроки АПЛ недооценены (фактическая стоимость меньше предсказанной).\")\n",
        "else:\n",
        "    print(\"Нет статистически значимых доказательств переоценки или недооценки игроков АПЛ.\")"
      ],
      "metadata": {
        "colab": {
          "base_uri": "https://localhost:8080/"
        },
        "id": "u_9sotCt0jlR",
        "outputId": "358b9b81-b30a-43e3-b47c-dd0fdfb14964"
      },
      "execution_count": 30,
      "outputs": [
        {
          "output_type": "stream",
          "name": "stdout",
          "text": [
            "Среднее overvaluation: 4.081079668023613e-12\n",
            "Результаты t-теста по игрокам АПЛ:\n",
            "t-статистика: 3.571638661762994e-12\n",
            "p-значение: 0.9999999999971556\n",
            "Нет статистически значимых доказательств переоценки или недооценки игроков АПЛ.\n"
          ]
        }
      ]
    },
    {
      "cell_type": "markdown",
      "source": [
        "Первая гипотеза  не отвергается и мы не можем сказать, что игроки АПЛ переоценены"
      ],
      "metadata": {
        "id": "l-jEGSwT1cXO"
      }
    },
    {
      "cell_type": "markdown",
      "source": [
        "### Проверим вторую гипотезу о том , что атакующие более ценный товар, чем защитники и полузатники"
      ],
      "metadata": {
        "id": "UIbA5DpI24lE"
      }
    },
    {
      "cell_type": "code",
      "source": [
        "position_columns = [col for col in df.columns if col.startswith('Позиция на поле_')]\n",
        "attack_positions = [\n",
        "    'Позиция на поле_Левый Вингер',\n",
        "    'Позиция на поле_Правый Вингер',\n",
        "    'Позиция на поле_Оттянутый нап.',\n",
        "    'Позиция на поле_Центральный нап.'\n",
        "]\n",
        "\n",
        "midfield_positions = [\n",
        "    'Позиция на поле_Опорный полузащитник',\n",
        "    'Позиция на поле_Правый полузащитник',\n",
        "    'Позиция на поле_Центр. полузащитник'\n",
        "]\n",
        "\n",
        "defence_positions = [\n",
        "    'Позиция на поле_Левый защитник',\n",
        "    'Позиция на поле_Правый защитник',\n",
        "    'Позиция на поле_Центр. защитник'\n",
        "]\n",
        "\n",
        "def get_player_position(row):\n",
        "    for c in position_columns:\n",
        "        if row[c] == 1:\n",
        "            return c\n",
        "    return 'Unknown'\n",
        "def categorize_position(pos):\n",
        "    if pos in attack_positions:\n",
        "        return 'Attack'\n",
        "    elif pos in midfield_positions:\n",
        "        return 'Midfield'\n",
        "    elif pos in defence_positions:\n",
        "        return 'Defence'\n",
        "    else:\n",
        "        return 'Other'\n",
        "df['position'] = df.apply(get_player_position, axis=1)\n",
        "df['position_group'] = df['position'].apply(categorize_position)\n",
        "\n",
        "attack_values = df[df['position_group'] == 'Attack']['Стоимость'].dropna()\n",
        "defence_values = df[df['position_group'] == 'Defence']['Стоимость'].dropna()\n",
        "midfield_values = df[df['position_group'] == 'Midfield']['Стоимость'].dropna()\n",
        "p_kruskal = kruskal(attack_values, defence_values, midfield_values)[1]\n",
        "print(\"Kruskal-Wallis p-value:\", p_kruskal)\n",
        "if p_kruskal < 0.05:\n",
        "    print(\"Есть статистически значимые различия между группами позиций.\")\n",
        "else:\n",
        "    print(\"Нет статистически значимых различий между группами позиций.\")\n",
        "data = pd.concat([attack_values, defence_values, midfield_values], axis=0, keys=['Attack', 'Defence', 'Midfield'])\n",
        "df_for_posthoc = pd.DataFrame({'values': data.values, 'groups': data.index.get_level_values(0)})\n",
        "posthoc = sp.posthoc_dunn(df_for_posthoc, val_col='values', group_col='groups', p_adjust='bonferroni')\n",
        "mean_att=df[df['position_group'] == 'Attack']['Стоимость'].mean()\n",
        "mean_def=df[df['position_group'] == 'Defence']['Стоимость'].mean()\n",
        "mean_mid=df[df['position_group'] == 'Midfield']['Стоимость'].mean()\n",
        "print(posthoc,mean_att,mean_mid,mean_def)\n"
      ],
      "metadata": {
        "colab": {
          "base_uri": "https://localhost:8080/"
        },
        "id": "tNUCGuj_3AVI",
        "outputId": "4c7c1daa-61ae-438d-9b20-dcead70c428d"
      },
      "execution_count": 31,
      "outputs": [
        {
          "output_type": "stream",
          "name": "stdout",
          "text": [
            "Kruskal-Wallis p-value: 0.034758281225469756\n",
            "Есть статистически значимые различия между группами позиций.\n",
            "            Attack   Defence  Midfield\n",
            "Attack    1.000000  0.034012  0.323787\n",
            "Defence   0.034012  1.000000  1.000000\n",
            "Midfield  0.323787  1.000000  1.000000 47.980582524271846 42.114285714285714 36.924731182795696\n"
          ]
        }
      ]
    }
  ]
}